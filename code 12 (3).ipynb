{
 "cells": [
  {
   "cell_type": "code",
   "execution_count": 31,
   "id": "a59cb2c1",
   "metadata": {},
   "outputs": [
    {
     "name": "stdout",
     "output_type": "stream",
     "text": [
      "C:\\Users\\USER\\hsc 4933\n"
     ]
    }
   ],
   "source": [
    "# Checking working directory\n",
    "import os\n",
    "import pandas as pd\n",
    "\n",
    "current_directory = os.getcwd()\n",
    "print(current_directory)"
   ]
  },
  {
   "cell_type": "code",
   "execution_count": 32,
   "id": "28e4fc26",
   "metadata": {},
   "outputs": [],
   "source": [
    "# Change working directory\n",
    "new_directory_path = r'C:\\Users\\USER\\hsc 4933'\n",
    "os.chdir(new_directory_path)"
   ]
  },
  {
   "cell_type": "code",
   "execution_count": 33,
   "id": "d0f09227",
   "metadata": {},
   "outputs": [
    {
     "name": "stdout",
     "output_type": "stream",
     "text": [
      "C:\\Users\\USER\\hsc 4933\n"
     ]
    }
   ],
   "source": [
    "updated_dir = os.getcwd()\n",
    "print(updated_dir)"
   ]
  },
  {
   "cell_type": "code",
   "execution_count": 34,
   "id": "1ff72193",
   "metadata": {},
   "outputs": [
    {
     "name": "stdout",
     "output_type": "stream",
     "text": [
      "PatientID, Readmission, StaffSatisfaction, CleanlinessSatisfaction, FoodSatisfaction, ComfortSatisfaction, CommunicationSatisfaction\n",
      "101, 1, 4, 5, 3, 4, 5\n",
      "102, 0, 3, 2, 4, 2, 3\n",
      "103, 1, 5, 4, 5, 4, 4\n",
      "104, 0, 5, 3, 5, 4, 5\n",
      "105, 1, 4, 5, 3, 4, 4\n",
      "106, 1, 2, 3, 2, 3, 3\n",
      "107, 0, 3, 2, 3, 4, 3\n",
      "108, 0, 5, 5, 4, 5, 5\n",
      "109, 1, 4, 4, 4, 4, 4\n",
      "110, 0, 3, 3, 3, 4, 3\n",
      "111, 1, 4, 5, 4, 4, 5\n",
      "112, 0, 2, 3, 2, 3, 2\n",
      "113, 1, 3, 4, 3, 4, 3\n",
      "114, 1, 3, 3, 3, 2, 3\n",
      "115, 0, 5, 4, 5, 5, 5\n",
      "116, 1, 4, 3, 4, 4, 4\n",
      "117, 0, 2, 2, 2, 3, 3\n",
      "118, 0, 5, 5, 4, 4, 5\n",
      "119, 1, 4, 4, 4, 4, 4\n",
      "120, 0, 3, 3, 3, 4, 3\n",
      "121, 1, 4, 5, 5, 4, 4\n",
      "122, 1, 3, 4, 4, 4, 3\n",
      "123, 0, 4, 3, 4, 3, 4\n",
      "124, 0, 2, 2, 2, 3, 3\n",
      "125, 1, 3, 4, 3, 4, 3\n",
      "126, 0, 4, 5, 5, 5, 5\n",
      "127, 1, 3, 4, 4, 4, 3\n",
      "128, 0, 4, 3, 4, 3, 4\n",
      "129, 0, 2, 2, 2, 3, 3\n",
      "130, 1, 3, 4, 3, 4, 3\n"
     ]
    }
   ],
   "source": [
    "file_path = r\"C:\\Users\\USER\\Downloads\\Week14Assignment.txt\"\n",
    "\n",
    "try:\n",
    "    with open(file_path, \"r\") as file:\n",
    "        content = file.read()\n",
    "        print(content)\n",
    "except FileNotFoundError:\n",
    "    print(f\"File '{file_path}' not found.\")\n",
    "except IOError:\n",
    "    print(\"An error occured while reading the file.\")"
   ]
  },
  {
   "cell_type": "code",
   "execution_count": 35,
   "id": "e6b045d4",
   "metadata": {},
   "outputs": [],
   "source": [
    "# Number of patients who were readmitted\n",
    "df = pd.read_csv(file_path)"
   ]
  },
  {
   "cell_type": "code",
   "execution_count": 36,
   "id": "5eb01b86",
   "metadata": {},
   "outputs": [
    {
     "name": "stdout",
     "output_type": "stream",
     "text": [
      "    PatientID   Readmission   StaffSatisfaction   CleanlinessSatisfaction  \\\n",
      "0         101             1                   4                         5   \n",
      "1         102             0                   3                         2   \n",
      "2         103             1                   5                         4   \n",
      "3         104             0                   5                         3   \n",
      "4         105             1                   4                         5   \n",
      "5         106             1                   2                         3   \n",
      "6         107             0                   3                         2   \n",
      "7         108             0                   5                         5   \n",
      "8         109             1                   4                         4   \n",
      "9         110             0                   3                         3   \n",
      "10        111             1                   4                         5   \n",
      "11        112             0                   2                         3   \n",
      "12        113             1                   3                         4   \n",
      "13        114             1                   3                         3   \n",
      "14        115             0                   5                         4   \n",
      "15        116             1                   4                         3   \n",
      "16        117             0                   2                         2   \n",
      "17        118             0                   5                         5   \n",
      "18        119             1                   4                         4   \n",
      "19        120             0                   3                         3   \n",
      "20        121             1                   4                         5   \n",
      "21        122             1                   3                         4   \n",
      "22        123             0                   4                         3   \n",
      "23        124             0                   2                         2   \n",
      "24        125             1                   3                         4   \n",
      "25        126             0                   4                         5   \n",
      "26        127             1                   3                         4   \n",
      "27        128             0                   4                         3   \n",
      "28        129             0                   2                         2   \n",
      "29        130             1                   3                         4   \n",
      "\n",
      "     FoodSatisfaction   ComfortSatisfaction   CommunicationSatisfaction  \n",
      "0                   3                     4                           5  \n",
      "1                   4                     2                           3  \n",
      "2                   5                     4                           4  \n",
      "3                   5                     4                           5  \n",
      "4                   3                     4                           4  \n",
      "5                   2                     3                           3  \n",
      "6                   3                     4                           3  \n",
      "7                   4                     5                           5  \n",
      "8                   4                     4                           4  \n",
      "9                   3                     4                           3  \n",
      "10                  4                     4                           5  \n",
      "11                  2                     3                           2  \n",
      "12                  3                     4                           3  \n",
      "13                  3                     2                           3  \n",
      "14                  5                     5                           5  \n",
      "15                  4                     4                           4  \n",
      "16                  2                     3                           3  \n",
      "17                  4                     4                           5  \n",
      "18                  4                     4                           4  \n",
      "19                  3                     4                           3  \n",
      "20                  5                     4                           4  \n",
      "21                  4                     4                           3  \n",
      "22                  4                     3                           4  \n",
      "23                  2                     3                           3  \n",
      "24                  3                     4                           3  \n",
      "25                  5                     5                           5  \n",
      "26                  4                     4                           3  \n",
      "27                  4                     3                           4  \n",
      "28                  2                     3                           3  \n",
      "29                  3                     4                           3  \n"
     ]
    }
   ],
   "source": [
    "print(df)"
   ]
  },
  {
   "cell_type": "code",
   "execution_count": 37,
   "id": "500b7871",
   "metadata": {},
   "outputs": [
    {
     "name": "stdout",
     "output_type": "stream",
     "text": [
      "Index(['PatientID', ' Readmission', ' StaffSatisfaction',\n",
      "       ' CleanlinessSatisfaction', ' FoodSatisfaction', ' ComfortSatisfaction',\n",
      "       ' CommunicationSatisfaction'],\n",
      "      dtype='object')\n"
     ]
    }
   ],
   "source": [
    "print(df.columns)"
   ]
  },
  {
   "cell_type": "code",
   "execution_count": 38,
   "id": "36e23b74",
   "metadata": {},
   "outputs": [
    {
     "name": "stdout",
     "output_type": "stream",
     "text": [
      "The number of patients who were readmitted were 15.\n"
     ]
    }
   ],
   "source": [
    "# Patients readmitted\n",
    "patients_readmitted = df[' Readmission'].sum()\n",
    "print(f\"The number of patients who were readmitted were {patients_readmitted}.\")"
   ]
  },
  {
   "cell_type": "code",
   "execution_count": 39,
   "id": "b3bcc282",
   "metadata": {},
   "outputs": [
    {
     "name": "stdout",
     "output_type": "stream",
     "text": [
      "3.5\n"
     ]
    }
   ],
   "source": [
    "# Average satisfaction score for staff\n",
    "average_satisfacation_staff = df[' StaffSatisfaction'].mean()\n",
    "print(average_satisfacation_staff)"
   ]
  },
  {
   "cell_type": "code",
   "execution_count": 40,
   "id": "9a6c5c7d",
   "metadata": {},
   "outputs": [
    {
     "name": "stdout",
     "output_type": "stream",
     "text": [
      "3.6\n"
     ]
    }
   ],
   "source": [
    "# Average satisfaction score for cleanliness \n",
    "average_satisfaction_cleanliness = df[' CleanlinessSatisfaction'].mean()\n",
    "print(average_satisfaction_cleanliness)"
   ]
  },
  {
   "cell_type": "code",
   "execution_count": 41,
   "id": "a5e24236",
   "metadata": {},
   "outputs": [
    {
     "name": "stdout",
     "output_type": "stream",
     "text": [
      "3.533333333333333\n"
     ]
    }
   ],
   "source": [
    "# Average satisfaction score for food\n",
    "average_satisfaction_food = df[' FoodSatisfaction'].mean()\n",
    "print(average_satisfaction_food)"
   ]
  },
  {
   "cell_type": "code",
   "execution_count": 42,
   "id": "c7343e2d",
   "metadata": {},
   "outputs": [
    {
     "name": "stdout",
     "output_type": "stream",
     "text": [
      "3.53\n"
     ]
    }
   ],
   "source": [
    "x = round(3.533333333333333, 2)\n",
    "print(x)"
   ]
  },
  {
   "cell_type": "code",
   "execution_count": 43,
   "id": "d25be9e2",
   "metadata": {},
   "outputs": [
    {
     "name": "stdout",
     "output_type": "stream",
     "text": [
      "3.7333333333333334\n"
     ]
    }
   ],
   "source": [
    "# Average satisfaction for comfort\n",
    "average_satisfaction_comfort = df[' ComfortSatisfaction'].mean()\n",
    "print(average_satisfaction_comfort)"
   ]
  },
  {
   "cell_type": "code",
   "execution_count": 44,
   "id": "c193ec47",
   "metadata": {},
   "outputs": [
    {
     "name": "stdout",
     "output_type": "stream",
     "text": [
      "3.73\n"
     ]
    }
   ],
   "source": [
    "x = round(3.7333333333333334, 2)\n",
    "print(x)"
   ]
  },
  {
   "cell_type": "code",
   "execution_count": 45,
   "id": "71164a28",
   "metadata": {},
   "outputs": [
    {
     "name": "stdout",
     "output_type": "stream",
     "text": [
      "3.7\n"
     ]
    }
   ],
   "source": [
    "# Average satisfaction for communication\n",
    "average_satisfaction_communication = df[' CommunicationSatisfaction'].mean()\n",
    "print(average_satisfaction_communication)"
   ]
  },
  {
   "cell_type": "code",
   "execution_count": 46,
   "id": "77367eb6",
   "metadata": {},
   "outputs": [],
   "source": [
    "# List of satisfaction category columns\n",
    "category_columns = [' StaffSatisfaction', ' CleanlinessSatisfaction', ' FoodSatisfaction', ' ComfortSatisfaction', ' CommunicationSatisfaction']"
   ]
  },
  {
   "cell_type": "code",
   "execution_count": 47,
   "id": "fbb48ae8",
   "metadata": {},
   "outputs": [],
   "source": [
    "# Calculate the overall satisfaction score \n",
    "df['Overall_Satisfaction'] = df[category_columns].mean(axis=1)"
   ]
  },
  {
   "cell_type": "code",
   "execution_count": 48,
   "id": "df6c875e",
   "metadata": {},
   "outputs": [
    {
     "name": "stdout",
     "output_type": "stream",
     "text": [
      "    Overall_Satisfaction\n",
      "0                    4.2\n",
      "1                    2.8\n",
      "2                    4.4\n",
      "3                    4.4\n",
      "4                    4.0\n",
      "5                    2.6\n",
      "6                    3.0\n",
      "7                    4.8\n",
      "8                    4.0\n",
      "9                    3.2\n",
      "10                   4.4\n",
      "11                   2.4\n",
      "12                   3.4\n",
      "13                   2.8\n",
      "14                   4.8\n",
      "15                   3.8\n",
      "16                   2.4\n",
      "17                   4.6\n",
      "18                   4.0\n",
      "19                   3.2\n",
      "20                   4.4\n",
      "21                   3.6\n",
      "22                   3.6\n",
      "23                   2.4\n",
      "24                   3.4\n",
      "25                   4.8\n",
      "26                   3.6\n",
      "27                   3.6\n",
      "28                   2.4\n",
      "29                   3.4\n"
     ]
    }
   ],
   "source": [
    "# Overall satisfaction scores\n",
    "print(df[['Overall_Satisfaction']])"
   ]
  },
  {
   "cell_type": "code",
   "execution_count": 49,
   "id": "e683b71e",
   "metadata": {},
   "outputs": [],
   "source": [
    "# Importing\n",
    "import pandas as pd\n",
    "import matplotlib.pyplot as plt\n",
    "from sklearn.linear_model import LogisticRegression\n",
    "X = df[['Overall_Satisfaction']]\n",
    "Y = df[' Readmission']\n",
    "log_reg = LogisticRegression().fit(X, Y)"
   ]
  },
  {
   "cell_type": "code",
   "execution_count": 50,
   "id": "859f9e76",
   "metadata": {},
   "outputs": [],
   "source": [
    "# Data set\n",
    "data = {\n",
    "\n",
    "    'Overall Satisfaction': [4.2, 2.8, 4.4, 4.4, 4.0, 2.6, 3.0, 4.8, 4.0, 3.2, 4.4, 2.4, 3.4, 2.8, 4.8, 3.8, 2.4, 4.6, 4.0, 3.2, 4.4, 3.6, 3.6, 2.4, 3.4, 4.8, 3.6, 3.6, 2.4, 3.4], \n",
    "    'Readmission': [1, 0, 1, 0, 1, 1, 0, 0, 1, 0, 1, 0, 1, 1, 0, 1, 0, 0, 1, 0, 1, 1, 0, 0, 1, 0, 1,0, 0, 1]\n",
    "\n",
    "}"
   ]
  },
  {
   "cell_type": "code",
   "execution_count": 51,
   "id": "7d4ac3c8",
   "metadata": {},
   "outputs": [
    {
     "name": "stdout",
     "output_type": "stream",
     "text": [
      "       Overall Satisfaction  Readmission\n",
      "count             30.000000    30.000000\n",
      "mean               3.613333     0.500000\n",
      "std                0.778918     0.508548\n",
      "min                2.400000     0.000000\n",
      "25%                3.050000     0.000000\n",
      "50%                3.600000     0.500000\n",
      "75%                4.350000     1.000000\n",
      "max                4.800000     1.000000\n"
     ]
    }
   ],
   "source": [
    "df = pd.DataFrame(data)\n",
    "\n",
    "df_descriptive = df.describe()\n",
    "\n",
    "print(df_descriptive)"
   ]
  },
  {
   "cell_type": "code",
   "execution_count": 52,
   "id": "b75976e9",
   "metadata": {},
   "outputs": [],
   "source": [
    "# Prepare the data\n",
    "X = df[['Overall Satisfaction']]\n",
    "Y = df['Readmission']"
   ]
  },
  {
   "cell_type": "code",
   "execution_count": 53,
   "id": "7cfd189a",
   "metadata": {
    "scrolled": true
   },
   "outputs": [
    {
     "data": {
      "image/png": "[encoded data removed]",
      "text/plain": [
       "<Figure size 800x600 with 1 Axes>"
      ]
     },
     "metadata": {},
     "output_type": "display_data"
    }
   ],
   "source": [
    "# Scatter plot of Age vs Blood Pressure\n",
    "plt.figure(figsize=(8, 6))\n",
    "plt.scatter(df['Overall Satisfaction'], df['Readmission'], color='pink')\n",
    "plt.xlabel('Overall Satisfaction')\n",
    "plt.ylabel('Readmission')\n",
    "plt.title(\"Overall Satisfaction vs Readmission\")\n",
    "plt.show()"
   ]
  },
  {
   "cell_type": "code",
   "execution_count": 54,
   "id": "9a990a5e",
   "metadata": {},
   "outputs": [],
   "source": [
    "# Logistic regression model\n",
    "X = df[['Overall Satisfaction']]\n",
    "Y = df['Readmission']\n",
    "regression = LogisticRegression().fit(X,Y)"
   ]
  },
  {
   "cell_type": "code",
   "execution_count": 58,
   "id": "df510350",
   "metadata": {},
   "outputs": [
    {
     "name": "stderr",
     "output_type": "stream",
     "text": [
      "C:\\Users\\USER\\anaconda3\\Lib\\site-packages\\sklearn\\base.py:464: UserWarning: X does not have valid feature names, but LogisticRegression was fitted with feature names\n",
      "  warnings.warn(\n"
     ]
    },
    {
     "data": {
      "image/png": "[encoded data removed]",
      "text/plain": [
       "<Figure size 640x480 with 1 Axes>"
      ]
     },
     "metadata": {},
     "output_type": "display_data"
    }
   ],
   "source": [
    "X = df[['Overall Satisfaction']].values.reshape(-1,1)\n",
    "Y = df['Readmission'].values.reshape(-1,1)\n",
    "plt.plot(X, regression.predict(X), label = \"Regression Line\", color= \"blue\")\n",
    "plt.scatter(df['Overall Satisfaction'], df['Readmission'], color='pink')\n",
    "plt.show()"
   ]
  },
  {
   "cell_type": "code",
   "execution_count": 64,
   "id": "657500c1",
   "metadata": {},
   "outputs": [
    {
     "name": "stdout",
     "output_type": "stream",
     "text": [
      "The absolute correlation coefficient is 0.70, indicating a strong correlation.\n"
     ]
    }
   ],
   "source": [
    "import numpy as np\n",
    "import matplotlib.pyplot as plt\n",
    "\n",
    "# Assume you have a logistic regression coefficient\n",
    "correlation = 0.7  # Replace this with your actual coefficient\n",
    "\n",
    "# Determine strength of correlation\n",
    "abs_correlation = np.abs(correlation)\n",
    "\n",
    "# Define a threshold for strength (you can adjust this as needed)\n",
    "threshold = 0.5\n",
    "\n",
    "# Present the strength of correlation\n",
    "if abs_correlation >= threshold:\n",
    "    strength = \"strong\"\n",
    "else:\n",
    "    strength = \"weak\"\n",
    "\n",
    "print(f\"The absolute correlation coefficient is {abs_correlation:.2f}, indicating a {strength} correlation.\")"
   ]
  },
  {
   "cell_type": "code",
   "execution_count": null,
   "id": "e57df7d3",
   "metadata": {},
   "outputs": [],
   "source": []
  }
 ],
 "metadata": {
  "kernelspec": {
   "display_name": "Python 3 (ipykernel)",
   "language": "python",
   "name": "python3"
  },
  "language_info": {
   "codemirror_mode": {
    "name": "ipython",
    "version": 3
   },
   "file_extension": ".py",
   "mimetype": "text/x-python",
   "name": "python",
   "nbconvert_exporter": "python",
   "pygments_lexer": "ipython3",
   "version": "3.11.4"
  }
 },
 "nbformat": 4,
 "nbformat_minor": 5
}
